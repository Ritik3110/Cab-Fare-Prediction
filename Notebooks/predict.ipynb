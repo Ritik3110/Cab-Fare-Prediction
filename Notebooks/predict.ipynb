{
 "cells": [
  {
   "cell_type": "markdown",
   "id": "092037d6",
   "metadata": {},
   "source": [
    "## Import Modules"
   ]
  },
  {
   "cell_type": "code",
   "execution_count": 106,
   "id": "26ef3166",
   "metadata": {},
   "outputs": [],
   "source": [
    "import pandas as pd\n",
    "import numpy as np\n",
    "import matplotlib.pyplot as plt\n",
    "from sklearn.model_selection import train_test_split\n",
    "from sklearn.linear_model import LinearRegression\n",
    "from sklearn.preprocessing import StandardScaler\n",
    "import seaborn as sns"
   ]
  },
  {
   "cell_type": "code",
   "execution_count": 10,
   "id": "c3475b87",
   "metadata": {},
   "outputs": [
    {
     "name": "stdout",
     "output_type": "stream",
     "text": [
      "c:\\Users\\ritik\\Desktop\\DS\\fare\n"
     ]
    }
   ],
   "source": [
    "import os\n",
    "\n",
    "print(os.getcwd())"
   ]
  },
  {
   "cell_type": "markdown",
   "id": "8303952d",
   "metadata": {},
   "source": [
    "## Import Datasets"
   ]
  },
  {
   "cell_type": "code",
   "execution_count": 18,
   "id": "fb19d07e",
   "metadata": {},
   "outputs": [],
   "source": [
    "rides_df = pd.read_csv(\"Datatsets/cab_rides.csv\")\n",
    "weather_df = pd.read_csv(\"Datatsets/weather.csv\")"
   ]
  },
  {
   "cell_type": "markdown",
   "id": "d3eba976",
   "metadata": {},
   "source": [
    "## Exploratory Analysis"
   ]
  },
  {
   "cell_type": "markdown",
   "id": "07aa813d",
   "metadata": {},
   "source": [
    "### Ride Data"
   ]
  },
  {
   "cell_type": "code",
   "execution_count": 27,
   "id": "b211247b",
   "metadata": {},
   "outputs": [
    {
     "name": "stdout",
     "output_type": "stream",
     "text": [
      "(693071, 10)\n",
      "<class 'pandas.core.frame.DataFrame'>\n",
      "RangeIndex: 693071 entries, 0 to 693070\n",
      "Data columns (total 10 columns):\n",
      " #   Column            Non-Null Count   Dtype  \n",
      "---  ------            --------------   -----  \n",
      " 0   distance          693071 non-null  float64\n",
      " 1   cab_type          693071 non-null  object \n",
      " 2   time_stamp        693071 non-null  int64  \n",
      " 3   destination       693071 non-null  object \n",
      " 4   source            693071 non-null  object \n",
      " 5   price             637976 non-null  float64\n",
      " 6   surge_multiplier  693071 non-null  float64\n",
      " 7   id                693071 non-null  object \n",
      " 8   product_id        693071 non-null  object \n",
      " 9   name              693071 non-null  object \n",
      "dtypes: float64(3), int64(1), object(6)\n",
      "memory usage: 52.9+ MB\n",
      "None\n",
      "distance                0\n",
      "cab_type                0\n",
      "time_stamp              0\n",
      "destination             0\n",
      "source                  0\n",
      "price               55095\n",
      "surge_multiplier        0\n",
      "id                      0\n",
      "product_id              0\n",
      "name                    0\n",
      "dtype: int64\n"
     ]
    }
   ],
   "source": [
    "print(rides_df.shape)\n",
    "print(rides_df.info())\n",
    "print(rides_df.isna().sum())"
   ]
  },
  {
   "cell_type": "markdown",
   "id": "49d07274",
   "metadata": {},
   "source": [
    "### Weather Data"
   ]
  },
  {
   "cell_type": "code",
   "execution_count": 28,
   "id": "892ee6ef",
   "metadata": {},
   "outputs": [
    {
     "name": "stdout",
     "output_type": "stream",
     "text": [
      "(6276, 8)\n",
      "<class 'pandas.core.frame.DataFrame'>\n",
      "RangeIndex: 6276 entries, 0 to 6275\n",
      "Data columns (total 8 columns):\n",
      " #   Column      Non-Null Count  Dtype  \n",
      "---  ------      --------------  -----  \n",
      " 0   temp        6276 non-null   float64\n",
      " 1   location    6276 non-null   object \n",
      " 2   clouds      6276 non-null   float64\n",
      " 3   pressure    6276 non-null   float64\n",
      " 4   rain        894 non-null    float64\n",
      " 5   time_stamp  6276 non-null   int64  \n",
      " 6   humidity    6276 non-null   float64\n",
      " 7   wind        6276 non-null   float64\n",
      "dtypes: float64(6), int64(1), object(1)\n",
      "memory usage: 392.4+ KB\n",
      "None\n",
      "temp             0\n",
      "location         0\n",
      "clouds           0\n",
      "pressure         0\n",
      "rain          5382\n",
      "time_stamp       0\n",
      "humidity         0\n",
      "wind             0\n",
      "dtype: int64\n"
     ]
    }
   ],
   "source": [
    "print(weather_df.shape)\n",
    "print(weather_df.info())\n",
    "print(weather_df.isna().sum())"
   ]
  },
  {
   "cell_type": "markdown",
   "id": "4f293c16",
   "metadata": {},
   "source": [
    "## Cleaning"
   ]
  },
  {
   "cell_type": "markdown",
   "id": "440b434d",
   "metadata": {},
   "source": [
    "### Cleaning Ride Data"
   ]
  },
  {
   "cell_type": "code",
   "execution_count": 58,
   "id": "1364f62a",
   "metadata": {},
   "outputs": [
    {
     "data": {
      "text/plain": [
       "(637976, 10)"
      ]
     },
     "execution_count": 58,
     "metadata": {},
     "output_type": "execute_result"
    }
   ],
   "source": [
    "rides_df = rides_df.dropna(axis=0).reset_index(drop=True)\n",
    "rides_df.shape"
   ]
  },
  {
   "cell_type": "markdown",
   "id": "7f8c0184",
   "metadata": {},
   "source": [
    "### Cleaning Weather Data"
   ]
  },
  {
   "cell_type": "code",
   "execution_count": 30,
   "id": "e6b8642c",
   "metadata": {},
   "outputs": [],
   "source": [
    "weather_df=weather_df.fillna(0)"
   ]
  },
  {
   "cell_type": "markdown",
   "id": "2ec13098",
   "metadata": {},
   "source": [
    "### Creating a new Weather Dataframe, Averaging the data over location"
   ]
  },
  {
   "cell_type": "code",
   "execution_count": null,
   "id": "dab807b4",
   "metadata": {},
   "outputs": [],
   "source": [
    "avg_weather_df = weather_df.groupby('location').mean().reset_index(drop=False).drop(columns='time_stamp')"
   ]
  },
  {
   "cell_type": "markdown",
   "id": "a11cfd44",
   "metadata": {},
   "source": [
    "### Creating dataframe for weather at source & destination and merging with ride data"
   ]
  },
  {
   "cell_type": "code",
   "execution_count": 54,
   "id": "dacfed27",
   "metadata": {},
   "outputs": [],
   "source": [
    "src_avg_weather = avg_weather_df.rename(columns={\n",
    "    'location' : 'source',\n",
    "    'temp' : 'source_temp',\n",
    "    'clouds': 'source_clouds',\n",
    "    'pressure': 'source_pressure', \n",
    "    'humidity': 'source_humidity', \n",
    "    'rain': 'source_rain',\n",
    "    'wind': 'source_wind'\n",
    "    })\n",
    "\n",
    "dest_avg_weather = avg_weather_df.rename(columns={\n",
    "    'location' : 'destination',\n",
    "    'temp' : 'destination_temp',\n",
    "    'clouds': 'destination_clouds',\n",
    "    'pressure': 'destination_pressure', \n",
    "    'humidity': 'destination_humidity', \n",
    "    'rain': 'destination_rain',\n",
    "    'wind': 'destination_wind'\n",
    "    })"
   ]
  },
  {
   "cell_type": "code",
   "execution_count": 57,
   "id": "20e44391",
   "metadata": {},
   "outputs": [
    {
     "name": "stdout",
     "output_type": "stream",
     "text": [
      "(637976, 22)\n"
     ]
    }
   ],
   "source": [
    "merged_rides_df = pd.merge(rides_df, src_avg_weather, on='source', how='inner')\n",
    "merged_rides_df = pd.merge(merged_rides_df, dest_avg_weather, on='destination', how='inner')\n",
    "print(merged_rides_df.shape)"
   ]
  },
  {
   "cell_type": "markdown",
   "id": "36dc8e85",
   "metadata": {},
   "source": [
    "## Preprocessing"
   ]
  },
  {
   "cell_type": "code",
   "execution_count": 87,
   "id": "d5182791",
   "metadata": {},
   "outputs": [],
   "source": [
    "def onehot_encode(df, column, prefix):\n",
    "    df=df.copy()\n",
    "    dummies = pd.get_dummies(df[column], prefix=prefix, drop_first=True)\n",
    "    df = pd.concat([df, dummies], axis=1)\n",
    "    df = df.drop(column, axis=1)\n",
    "    return df\n"
   ]
  },
  {
   "cell_type": "code",
   "execution_count": 99,
   "id": "f3ed59e3",
   "metadata": {},
   "outputs": [],
   "source": [
    "def preprocess_data(df):\n",
    "    df=df.copy()\n",
    "    \n",
    "    # Drop unneeded Columns\n",
    "    df=df.drop([\"id\",\"product_id\",\"time_stamp\"],axis=1)\n",
    "    \n",
    "    # Binary Encoding\n",
    "    df[\"cab_type\"]=df[\"cab_type\"].map({\"Lyft\":0, \"Uber\":1})\n",
    "    \n",
    "    #onehot encoding\n",
    "    for column,prefix in [('destination','dest'),('source','src'),('name','nm')]:\n",
    "        df = onehot_encode(df, column, prefix)\n",
    "    \n",
    "    #train test split\n",
    "    y=df[\"price\"]\n",
    "    x=df.drop(columns=[\"price\"])\n",
    "    x_train, x_test, y_train, y_test = train_test_split(x,y, test_size=0.3, random_state=1, shuffle=True)\n",
    "\n",
    "    #scale x\n",
    "    scaler = StandardScaler()\n",
    "    x_train = pd.DataFrame(scaler.fit_transform(x_train), columns=x_train.columns)\n",
    "    x_test = pd.DataFrame(scaler.transform(x_test), columns=x_test.columns)\n",
    "\n",
    "    return x_train, x_test, y_train, y_test\n",
    "\n"
   ]
  },
  {
   "cell_type": "code",
   "execution_count": 101,
   "id": "a75d883d",
   "metadata": {},
   "outputs": [],
   "source": [
    "x_train, x_test, y_train, y_test = preprocess_data(merged_rides_df)\n"
   ]
  },
  {
   "cell_type": "markdown",
   "id": "c42c4a40",
   "metadata": {},
   "source": [
    "## Training"
   ]
  },
  {
   "cell_type": "code",
   "execution_count": null,
   "id": "1fee0fb9",
   "metadata": {},
   "outputs": [
    {
     "name": "stdout",
     "output_type": "stream",
     "text": [
      "Model Test R-Square Score: 0.92854\n"
     ]
    }
   ],
   "source": [
    "model = LinearRegression()\n",
    "model.fit(x_train, y_train)\n",
    "print(\"Model Test R-Square Score: {:.5f}\".format(model.score(x_test, y_test)))"
   ]
  }
 ],
 "metadata": {
  "kernelspec": {
   "display_name": "fare (3.13.7)",
   "language": "python",
   "name": "python3"
  },
  "language_info": {
   "codemirror_mode": {
    "name": "ipython",
    "version": 3
   },
   "file_extension": ".py",
   "mimetype": "text/x-python",
   "name": "python",
   "nbconvert_exporter": "python",
   "pygments_lexer": "ipython3",
   "version": "3.13.7"
  }
 },
 "nbformat": 4,
 "nbformat_minor": 5
}
